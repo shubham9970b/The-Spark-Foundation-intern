{
 "cells": [
  {
   "cell_type": "markdown",
   "id": "7d76df42",
   "metadata": {},
   "source": [
    "# GRIP : The Sparks Foundation"
   ]
  },
  {
   "cell_type": "markdown",
   "id": "25fb3ca0",
   "metadata": {},
   "source": [
    "# Data Science and Business Analytics Intern"
   ]
  },
  {
   "cell_type": "markdown",
   "id": "a8624e32",
   "metadata": {},
   "source": [
    "# Name :- Shubham Shende"
   ]
  },
  {
   "cell_type": "markdown",
   "id": "ac6038a8",
   "metadata": {},
   "source": [
    "# Task 2:- Prediction Using Unsupervised ML"
   ]
  },
  {
   "cell_type": "markdown",
   "id": "e5a24302",
   "metadata": {},
   "source": [
    "## From the given 'iris' dataset predict the optimum number of clusters and represent it visually"
   ]
  },
  {
   "cell_type": "markdown",
   "id": "9287c91c",
   "metadata": {},
   "source": [
    "# Importing Libraries"
   ]
  },
  {
   "cell_type": "code",
   "execution_count": 1,
   "id": "b91a5276",
   "metadata": {},
   "outputs": [],
   "source": [
    "import numpy as np\n",
    "import pandas as pd\n",
    "import matplotlib.pyplot as plt\n",
    "import seaborn as sns\n"
   ]
  },
  {
   "cell_type": "markdown",
   "id": "b4db3d3f",
   "metadata": {},
   "source": [
    "## Importing Dataset"
   ]
  },
  {
   "cell_type": "code",
   "execution_count": 2,
   "id": "ca8968b5",
   "metadata": {},
   "outputs": [
    {
     "data": {
      "text/html": [
       "<div>\n",
       "<style scoped>\n",
       "    .dataframe tbody tr th:only-of-type {\n",
       "        vertical-align: middle;\n",
       "    }\n",
       "\n",
       "    .dataframe tbody tr th {\n",
       "        vertical-align: top;\n",
       "    }\n",
       "\n",
       "    .dataframe thead th {\n",
       "        text-align: right;\n",
       "    }\n",
       "</style>\n",
       "<table border=\"1\" class=\"dataframe\">\n",
       "  <thead>\n",
       "    <tr style=\"text-align: right;\">\n",
       "      <th></th>\n",
       "      <th>Id</th>\n",
       "      <th>SepalLengthCm</th>\n",
       "      <th>SepalWidthCm</th>\n",
       "      <th>PetalLengthCm</th>\n",
       "      <th>PetalWidthCm</th>\n",
       "      <th>Species</th>\n",
       "    </tr>\n",
       "  </thead>\n",
       "  <tbody>\n",
       "    <tr>\n",
       "      <th>0</th>\n",
       "      <td>1</td>\n",
       "      <td>5.1</td>\n",
       "      <td>3.5</td>\n",
       "      <td>1.4</td>\n",
       "      <td>0.2</td>\n",
       "      <td>Iris-setosa</td>\n",
       "    </tr>\n",
       "    <tr>\n",
       "      <th>1</th>\n",
       "      <td>2</td>\n",
       "      <td>4.9</td>\n",
       "      <td>3.0</td>\n",
       "      <td>1.4</td>\n",
       "      <td>0.2</td>\n",
       "      <td>Iris-setosa</td>\n",
       "    </tr>\n",
       "    <tr>\n",
       "      <th>2</th>\n",
       "      <td>3</td>\n",
       "      <td>4.7</td>\n",
       "      <td>3.2</td>\n",
       "      <td>1.3</td>\n",
       "      <td>0.2</td>\n",
       "      <td>Iris-setosa</td>\n",
       "    </tr>\n",
       "    <tr>\n",
       "      <th>3</th>\n",
       "      <td>4</td>\n",
       "      <td>4.6</td>\n",
       "      <td>3.1</td>\n",
       "      <td>1.5</td>\n",
       "      <td>0.2</td>\n",
       "      <td>Iris-setosa</td>\n",
       "    </tr>\n",
       "    <tr>\n",
       "      <th>4</th>\n",
       "      <td>5</td>\n",
       "      <td>5.0</td>\n",
       "      <td>3.6</td>\n",
       "      <td>1.4</td>\n",
       "      <td>0.2</td>\n",
       "      <td>Iris-setosa</td>\n",
       "    </tr>\n",
       "    <tr>\n",
       "      <th>...</th>\n",
       "      <td>...</td>\n",
       "      <td>...</td>\n",
       "      <td>...</td>\n",
       "      <td>...</td>\n",
       "      <td>...</td>\n",
       "      <td>...</td>\n",
       "    </tr>\n",
       "    <tr>\n",
       "      <th>145</th>\n",
       "      <td>146</td>\n",
       "      <td>6.7</td>\n",
       "      <td>3.0</td>\n",
       "      <td>5.2</td>\n",
       "      <td>2.3</td>\n",
       "      <td>Iris-virginica</td>\n",
       "    </tr>\n",
       "    <tr>\n",
       "      <th>146</th>\n",
       "      <td>147</td>\n",
       "      <td>6.3</td>\n",
       "      <td>2.5</td>\n",
       "      <td>5.0</td>\n",
       "      <td>1.9</td>\n",
       "      <td>Iris-virginica</td>\n",
       "    </tr>\n",
       "    <tr>\n",
       "      <th>147</th>\n",
       "      <td>148</td>\n",
       "      <td>6.5</td>\n",
       "      <td>3.0</td>\n",
       "      <td>5.2</td>\n",
       "      <td>2.0</td>\n",
       "      <td>Iris-virginica</td>\n",
       "    </tr>\n",
       "    <tr>\n",
       "      <th>148</th>\n",
       "      <td>149</td>\n",
       "      <td>6.2</td>\n",
       "      <td>3.4</td>\n",
       "      <td>5.4</td>\n",
       "      <td>2.3</td>\n",
       "      <td>Iris-virginica</td>\n",
       "    </tr>\n",
       "    <tr>\n",
       "      <th>149</th>\n",
       "      <td>150</td>\n",
       "      <td>5.9</td>\n",
       "      <td>3.0</td>\n",
       "      <td>5.1</td>\n",
       "      <td>1.8</td>\n",
       "      <td>Iris-virginica</td>\n",
       "    </tr>\n",
       "  </tbody>\n",
       "</table>\n",
       "<p>150 rows × 6 columns</p>\n",
       "</div>"
      ],
      "text/plain": [
       "      Id  SepalLengthCm  SepalWidthCm  PetalLengthCm  PetalWidthCm  \\\n",
       "0      1            5.1           3.5            1.4           0.2   \n",
       "1      2            4.9           3.0            1.4           0.2   \n",
       "2      3            4.7           3.2            1.3           0.2   \n",
       "3      4            4.6           3.1            1.5           0.2   \n",
       "4      5            5.0           3.6            1.4           0.2   \n",
       "..   ...            ...           ...            ...           ...   \n",
       "145  146            6.7           3.0            5.2           2.3   \n",
       "146  147            6.3           2.5            5.0           1.9   \n",
       "147  148            6.5           3.0            5.2           2.0   \n",
       "148  149            6.2           3.4            5.4           2.3   \n",
       "149  150            5.9           3.0            5.1           1.8   \n",
       "\n",
       "            Species  \n",
       "0       Iris-setosa  \n",
       "1       Iris-setosa  \n",
       "2       Iris-setosa  \n",
       "3       Iris-setosa  \n",
       "4       Iris-setosa  \n",
       "..              ...  \n",
       "145  Iris-virginica  \n",
       "146  Iris-virginica  \n",
       "147  Iris-virginica  \n",
       "148  Iris-virginica  \n",
       "149  Iris-virginica  \n",
       "\n",
       "[150 rows x 6 columns]"
      ]
     },
     "execution_count": 2,
     "metadata": {},
     "output_type": "execute_result"
    }
   ],
   "source": [
    "data=pd.read_csv(\"C:/python Programs/Iris.csv\")    \n",
    "data\n"
   ]
  },
  {
   "cell_type": "code",
   "execution_count": 3,
   "id": "a7f74790",
   "metadata": {},
   "outputs": [
    {
     "data": {
      "text/html": [
       "<div>\n",
       "<style scoped>\n",
       "    .dataframe tbody tr th:only-of-type {\n",
       "        vertical-align: middle;\n",
       "    }\n",
       "\n",
       "    .dataframe tbody tr th {\n",
       "        vertical-align: top;\n",
       "    }\n",
       "\n",
       "    .dataframe thead th {\n",
       "        text-align: right;\n",
       "    }\n",
       "</style>\n",
       "<table border=\"1\" class=\"dataframe\">\n",
       "  <thead>\n",
       "    <tr style=\"text-align: right;\">\n",
       "      <th></th>\n",
       "      <th>Id</th>\n",
       "      <th>SepalLengthCm</th>\n",
       "      <th>SepalWidthCm</th>\n",
       "      <th>PetalLengthCm</th>\n",
       "      <th>PetalWidthCm</th>\n",
       "    </tr>\n",
       "  </thead>\n",
       "  <tbody>\n",
       "    <tr>\n",
       "      <th>count</th>\n",
       "      <td>150.000000</td>\n",
       "      <td>150.000000</td>\n",
       "      <td>150.000000</td>\n",
       "      <td>150.000000</td>\n",
       "      <td>150.000000</td>\n",
       "    </tr>\n",
       "    <tr>\n",
       "      <th>mean</th>\n",
       "      <td>75.500000</td>\n",
       "      <td>5.843333</td>\n",
       "      <td>3.054000</td>\n",
       "      <td>3.758667</td>\n",
       "      <td>1.198667</td>\n",
       "    </tr>\n",
       "    <tr>\n",
       "      <th>std</th>\n",
       "      <td>43.445368</td>\n",
       "      <td>0.828066</td>\n",
       "      <td>0.433594</td>\n",
       "      <td>1.764420</td>\n",
       "      <td>0.763161</td>\n",
       "    </tr>\n",
       "    <tr>\n",
       "      <th>min</th>\n",
       "      <td>1.000000</td>\n",
       "      <td>4.300000</td>\n",
       "      <td>2.000000</td>\n",
       "      <td>1.000000</td>\n",
       "      <td>0.100000</td>\n",
       "    </tr>\n",
       "    <tr>\n",
       "      <th>25%</th>\n",
       "      <td>38.250000</td>\n",
       "      <td>5.100000</td>\n",
       "      <td>2.800000</td>\n",
       "      <td>1.600000</td>\n",
       "      <td>0.300000</td>\n",
       "    </tr>\n",
       "    <tr>\n",
       "      <th>50%</th>\n",
       "      <td>75.500000</td>\n",
       "      <td>5.800000</td>\n",
       "      <td>3.000000</td>\n",
       "      <td>4.350000</td>\n",
       "      <td>1.300000</td>\n",
       "    </tr>\n",
       "    <tr>\n",
       "      <th>75%</th>\n",
       "      <td>112.750000</td>\n",
       "      <td>6.400000</td>\n",
       "      <td>3.300000</td>\n",
       "      <td>5.100000</td>\n",
       "      <td>1.800000</td>\n",
       "    </tr>\n",
       "    <tr>\n",
       "      <th>max</th>\n",
       "      <td>150.000000</td>\n",
       "      <td>7.900000</td>\n",
       "      <td>4.400000</td>\n",
       "      <td>6.900000</td>\n",
       "      <td>2.500000</td>\n",
       "    </tr>\n",
       "  </tbody>\n",
       "</table>\n",
       "</div>"
      ],
      "text/plain": [
       "               Id  SepalLengthCm  SepalWidthCm  PetalLengthCm  PetalWidthCm\n",
       "count  150.000000     150.000000    150.000000     150.000000    150.000000\n",
       "mean    75.500000       5.843333      3.054000       3.758667      1.198667\n",
       "std     43.445368       0.828066      0.433594       1.764420      0.763161\n",
       "min      1.000000       4.300000      2.000000       1.000000      0.100000\n",
       "25%     38.250000       5.100000      2.800000       1.600000      0.300000\n",
       "50%     75.500000       5.800000      3.000000       4.350000      1.300000\n",
       "75%    112.750000       6.400000      3.300000       5.100000      1.800000\n",
       "max    150.000000       7.900000      4.400000       6.900000      2.500000"
      ]
     },
     "execution_count": 3,
     "metadata": {},
     "output_type": "execute_result"
    }
   ],
   "source": [
    "data.describe()   # Gives us Discriptive Statistics."
   ]
  },
  {
   "cell_type": "code",
   "execution_count": 6,
   "id": "d0ff2563",
   "metadata": {},
   "outputs": [
    {
     "name": "stdout",
     "output_type": "stream",
     "text": [
      "<class 'pandas.core.frame.DataFrame'>\n",
      "RangeIndex: 150 entries, 0 to 149\n",
      "Data columns (total 5 columns):\n",
      " #   Column        Non-Null Count  Dtype  \n",
      "---  ------        --------------  -----  \n",
      " 0   sepal.length  150 non-null    float64\n",
      " 1   sepal.width   150 non-null    float64\n",
      " 2   petal.length  150 non-null    float64\n",
      " 3   petal.width   150 non-null    float64\n",
      " 4   variety       150 non-null    object \n",
      "dtypes: float64(4), object(1)\n",
      "memory usage: 6.0+ KB\n"
     ]
    }
   ],
   "source": [
    "data.info()  # Gives us null value is present or not."
   ]
  },
  {
   "cell_type": "markdown",
   "id": "da33db78",
   "metadata": {},
   "source": [
    "## Separate into dependent and independent variables."
   ]
  },
  {
   "cell_type": "code",
   "execution_count": 4,
   "id": "c3e75639",
   "metadata": {},
   "outputs": [
    {
     "data": {
      "text/plain": [
       "array([[  1. ,   1.4],\n",
       "       [  2. ,   1.4],\n",
       "       [  3. ,   1.3],\n",
       "       [  4. ,   1.5],\n",
       "       [  5. ,   1.4],\n",
       "       [  6. ,   1.7],\n",
       "       [  7. ,   1.4],\n",
       "       [  8. ,   1.5],\n",
       "       [  9. ,   1.4],\n",
       "       [ 10. ,   1.5],\n",
       "       [ 11. ,   1.5],\n",
       "       [ 12. ,   1.6],\n",
       "       [ 13. ,   1.4],\n",
       "       [ 14. ,   1.1],\n",
       "       [ 15. ,   1.2],\n",
       "       [ 16. ,   1.5],\n",
       "       [ 17. ,   1.3],\n",
       "       [ 18. ,   1.4],\n",
       "       [ 19. ,   1.7],\n",
       "       [ 20. ,   1.5],\n",
       "       [ 21. ,   1.7],\n",
       "       [ 22. ,   1.5],\n",
       "       [ 23. ,   1. ],\n",
       "       [ 24. ,   1.7],\n",
       "       [ 25. ,   1.9],\n",
       "       [ 26. ,   1.6],\n",
       "       [ 27. ,   1.6],\n",
       "       [ 28. ,   1.5],\n",
       "       [ 29. ,   1.4],\n",
       "       [ 30. ,   1.6],\n",
       "       [ 31. ,   1.6],\n",
       "       [ 32. ,   1.5],\n",
       "       [ 33. ,   1.5],\n",
       "       [ 34. ,   1.4],\n",
       "       [ 35. ,   1.5],\n",
       "       [ 36. ,   1.2],\n",
       "       [ 37. ,   1.3],\n",
       "       [ 38. ,   1.5],\n",
       "       [ 39. ,   1.3],\n",
       "       [ 40. ,   1.5],\n",
       "       [ 41. ,   1.3],\n",
       "       [ 42. ,   1.3],\n",
       "       [ 43. ,   1.3],\n",
       "       [ 44. ,   1.6],\n",
       "       [ 45. ,   1.9],\n",
       "       [ 46. ,   1.4],\n",
       "       [ 47. ,   1.6],\n",
       "       [ 48. ,   1.4],\n",
       "       [ 49. ,   1.5],\n",
       "       [ 50. ,   1.4],\n",
       "       [ 51. ,   4.7],\n",
       "       [ 52. ,   4.5],\n",
       "       [ 53. ,   4.9],\n",
       "       [ 54. ,   4. ],\n",
       "       [ 55. ,   4.6],\n",
       "       [ 56. ,   4.5],\n",
       "       [ 57. ,   4.7],\n",
       "       [ 58. ,   3.3],\n",
       "       [ 59. ,   4.6],\n",
       "       [ 60. ,   3.9],\n",
       "       [ 61. ,   3.5],\n",
       "       [ 62. ,   4.2],\n",
       "       [ 63. ,   4. ],\n",
       "       [ 64. ,   4.7],\n",
       "       [ 65. ,   3.6],\n",
       "       [ 66. ,   4.4],\n",
       "       [ 67. ,   4.5],\n",
       "       [ 68. ,   4.1],\n",
       "       [ 69. ,   4.5],\n",
       "       [ 70. ,   3.9],\n",
       "       [ 71. ,   4.8],\n",
       "       [ 72. ,   4. ],\n",
       "       [ 73. ,   4.9],\n",
       "       [ 74. ,   4.7],\n",
       "       [ 75. ,   4.3],\n",
       "       [ 76. ,   4.4],\n",
       "       [ 77. ,   4.8],\n",
       "       [ 78. ,   5. ],\n",
       "       [ 79. ,   4.5],\n",
       "       [ 80. ,   3.5],\n",
       "       [ 81. ,   3.8],\n",
       "       [ 82. ,   3.7],\n",
       "       [ 83. ,   3.9],\n",
       "       [ 84. ,   5.1],\n",
       "       [ 85. ,   4.5],\n",
       "       [ 86. ,   4.5],\n",
       "       [ 87. ,   4.7],\n",
       "       [ 88. ,   4.4],\n",
       "       [ 89. ,   4.1],\n",
       "       [ 90. ,   4. ],\n",
       "       [ 91. ,   4.4],\n",
       "       [ 92. ,   4.6],\n",
       "       [ 93. ,   4. ],\n",
       "       [ 94. ,   3.3],\n",
       "       [ 95. ,   4.2],\n",
       "       [ 96. ,   4.2],\n",
       "       [ 97. ,   4.2],\n",
       "       [ 98. ,   4.3],\n",
       "       [ 99. ,   3. ],\n",
       "       [100. ,   4.1],\n",
       "       [101. ,   6. ],\n",
       "       [102. ,   5.1],\n",
       "       [103. ,   5.9],\n",
       "       [104. ,   5.6],\n",
       "       [105. ,   5.8],\n",
       "       [106. ,   6.6],\n",
       "       [107. ,   4.5],\n",
       "       [108. ,   6.3],\n",
       "       [109. ,   5.8],\n",
       "       [110. ,   6.1],\n",
       "       [111. ,   5.1],\n",
       "       [112. ,   5.3],\n",
       "       [113. ,   5.5],\n",
       "       [114. ,   5. ],\n",
       "       [115. ,   5.1],\n",
       "       [116. ,   5.3],\n",
       "       [117. ,   5.5],\n",
       "       [118. ,   6.7],\n",
       "       [119. ,   6.9],\n",
       "       [120. ,   5. ],\n",
       "       [121. ,   5.7],\n",
       "       [122. ,   4.9],\n",
       "       [123. ,   6.7],\n",
       "       [124. ,   4.9],\n",
       "       [125. ,   5.7],\n",
       "       [126. ,   6. ],\n",
       "       [127. ,   4.8],\n",
       "       [128. ,   4.9],\n",
       "       [129. ,   5.6],\n",
       "       [130. ,   5.8],\n",
       "       [131. ,   6.1],\n",
       "       [132. ,   6.4],\n",
       "       [133. ,   5.6],\n",
       "       [134. ,   5.1],\n",
       "       [135. ,   5.6],\n",
       "       [136. ,   6.1],\n",
       "       [137. ,   5.6],\n",
       "       [138. ,   5.5],\n",
       "       [139. ,   4.8],\n",
       "       [140. ,   5.4],\n",
       "       [141. ,   5.6],\n",
       "       [142. ,   5.1],\n",
       "       [143. ,   5.1],\n",
       "       [144. ,   5.9],\n",
       "       [145. ,   5.7],\n",
       "       [146. ,   5.2],\n",
       "       [147. ,   5. ],\n",
       "       [148. ,   5.2],\n",
       "       [149. ,   5.4],\n",
       "       [150. ,   5.1]])"
      ]
     },
     "execution_count": 4,
     "metadata": {},
     "output_type": "execute_result"
    }
   ],
   "source": [
    "x=data.iloc[:,[0,3]].values\n",
    "x"
   ]
  },
  {
   "cell_type": "markdown",
   "id": "2afdf5a1",
   "metadata": {},
   "source": [
    "## Using the elbow method find optimum number of clusters"
   ]
  },
  {
   "cell_type": "code",
   "execution_count": 5,
   "id": "d534ff89",
   "metadata": {},
   "outputs": [
    {
     "data": {
      "image/png": "[encoded data removed]",
      "text/plain": [
       "<Figure size 432x288 with 1 Axes>"
      ]
     },
     "metadata": {
      "needs_background": "light"
     },
     "output_type": "display_data"
    }
   ],
   "source": [
    "from sklearn.cluster import KMeans\n",
    "wcss = []\n",
    "\n",
    "for i in range(1, 11):\n",
    "    kmeans = KMeans(n_clusters = i, init = 'k-means++', random_state = 0)\n",
    "    kmeans.fit(x)\n",
    "    wcss.append(kmeans.inertia_)    # inertia is a category of clustering data\n",
    "    \n",
    "\n",
    "plt.plot(range(1, 11), wcss)\n",
    "plt.title('The elbow method')\n",
    "plt.xlabel('The Number of clusters')\n",
    "plt.ylabel('WCSS') # Within cluster sum of squares\n",
    "plt.show()"
   ]
  },
  {
   "cell_type": "markdown",
   "id": "f65ca330",
   "metadata": {},
   "source": [
    "## Training The Dataset Of KMeans Model"
   ]
  },
  {
   "cell_type": "code",
   "execution_count": 6,
   "id": "73d92306",
   "metadata": {},
   "outputs": [
    {
     "data": {
      "text/plain": [
       "array([0, 0, 0, 0, 0, 0, 0, 0, 0, 0, 0, 0, 0, 0, 0, 0, 0, 0, 0, 0, 0, 0,\n",
       "       0, 0, 0, 0, 0, 0, 0, 0, 0, 0, 0, 0, 0, 0, 0, 0, 0, 0, 0, 0, 0, 0,\n",
       "       0, 0, 0, 0, 0, 0, 2, 2, 2, 2, 2, 2, 2, 2, 2, 2, 2, 2, 2, 2, 2, 2,\n",
       "       2, 2, 2, 2, 2, 2, 2, 2, 2, 2, 2, 2, 2, 2, 2, 2, 2, 2, 2, 2, 2, 2,\n",
       "       2, 2, 2, 2, 2, 2, 2, 2, 2, 2, 2, 2, 1, 1, 1, 1, 1, 1, 1, 1, 1, 1,\n",
       "       1, 1, 1, 1, 1, 1, 1, 1, 1, 1, 1, 1, 1, 1, 1, 1, 1, 1, 1, 1, 1, 1,\n",
       "       1, 1, 1, 1, 1, 1, 1, 1, 1, 1, 1, 1, 1, 1, 1, 1, 1, 1])"
      ]
     },
     "execution_count": 6,
     "metadata": {},
     "output_type": "execute_result"
    }
   ],
   "source": [
    "kmeans = KMeans(n_clusters = 3, init='k-means++',random_state=0)\n",
    "y_kmeans=kmeans.fit_predict(x)\n",
    "y_kmeans"
   ]
  },
  {
   "cell_type": "markdown",
   "id": "9ad27ac6",
   "metadata": {},
   "source": [
    "## Plotting The Graph"
   ]
  },
  {
   "cell_type": "code",
   "execution_count": 8,
   "id": "833b4752",
   "metadata": {},
   "outputs": [
    {
     "data": {
      "image/png": "[encoded data removed]",
      "text/plain": [
       "<Figure size 432x288 with 1 Axes>"
      ]
     },
     "metadata": {
      "needs_background": "light"
     },
     "output_type": "display_data"
    }
   ],
   "source": [
    "plt.scatter(x[y_kmeans ==0, 0],x[y_kmeans == 0, 1],s=100,c=\"blue\",label=\"Setosa\")\n",
    "plt.scatter(x[y_kmeans ==1, 0],x[y_kmeans == 1, 1],s=100,c=\"red\",label=\"Verginica\")\n",
    "plt.scatter(x[y_kmeans ==2, 0],x[y_kmeans == 2, 1],s=100,c=\"green\",label=\"Versicolour\")\n",
    "plt.scatter(kmeans.cluster_centers_[:, 0], kmeans.cluster_centers_[:,1], \n",
    "            s = 100, c = 'yellow', label = 'Centroids')\n",
    "plt.title(\"Iris dataset Clustering\")\n",
    "plt.xlabel(\"sepal.length\",fontsize=20)\n",
    "plt.ylabel(\"sepal.width\",fontsize=18)\n",
    "plt.legend()\n",
    "plt.show()\n"
   ]
  },
  {
   "cell_type": "markdown",
   "id": "71c7cf37",
   "metadata": {},
   "source": [
    "# Thank You"
   ]
  },
  {
   "cell_type": "code",
   "execution_count": null,
   "id": "e1108822",
   "metadata": {},
   "outputs": [],
   "source": []
  }
 ],
 "metadata": {
  "kernelspec": {
   "display_name": "Python 3",
   "language": "python",
   "name": "python3"
  },
  "language_info": {
   "codemirror_mode": {
    "name": "ipython",
    "version": 3
   },
   "file_extension": ".py",
   "mimetype": "text/x-python",
   "name": "python",
   "nbconvert_exporter": "python",
   "pygments_lexer": "ipython3",
   "version": "3.9.5"
  }
 },
 "nbformat": 4,
 "nbformat_minor": 5
}
